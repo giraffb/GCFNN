{
 "cells": [
  {
   "cell_type": "code",
   "execution_count": 1,
   "id": "4003921d-b3f8-49bb-8b52-bbe874a5d387",
   "metadata": {},
   "outputs": [
    {
     "name": "stdout",
     "output_type": "stream",
     "text": [
      "已创建新的CSV文件：metagenomics_select.csv\n"
     ]
    }
   ],
   "source": [
    "import csv\n",
    "\n",
    "# 从txt文件读取数据\n",
    "txt_file = \"co_UC_mg_important_fe_all.txt\"\n",
    "csv_file = \"metagenomics_select.csv\"\n",
    "num = 0\n",
    "selected_columns = [-1]\n",
    "with open(txt_file, \"r\") as txt_file:\n",
    "    for line in txt_file:\n",
    "        parts = line.strip().split('\\t')\n",
    "        if len(parts) == 2:\n",
    "            column_number = int(parts[0])\n",
    "            if column_number < 578:\n",
    "                selected_columns.append(column_number)\n",
    "                num += 1\n",
    "                if num == 30:\n",
    "                    break\n",
    "\n",
    "# 构建新的CSV文件\n",
    "with open(csv_file, \"w\", newline='') as output_csv:\n",
    "    writer = csv.writer(output_csv)\n",
    "    \n",
    "    # 打开原始CSV文件\n",
    "    with open(\"metagenomics.csv\", \"r\") as input_csv:\n",
    "        reader = csv.reader(input_csv)\n",
    "        \n",
    "        for row in reader:\n",
    "            # 仅选择指定的列\n",
    "            selected_data = [row[col+1] for col in selected_columns]\n",
    "            \n",
    "            # 写入新的CSV文件\n",
    "            writer.writerow(selected_data)\n",
    "\n",
    "print(f\"已创建新的CSV文件：{csv_file}\")"
   ]
  },
  {
   "cell_type": "code",
   "execution_count": 2,
   "id": "82d0077c-32f2-41fc-b022-67f801338298",
   "metadata": {},
   "outputs": [
    {
     "name": "stdout",
     "output_type": "stream",
     "text": [
      "已创建新的CSV文件：metabolomics_select.csv\n"
     ]
    }
   ],
   "source": [
    "import csv\n",
    "\n",
    "# 从txt文件读取数据\n",
    "txt_file = \"co_UC_mb_important_fe_all.txt\"\n",
    "csv_file = \"metabolomics_select.csv\"\n",
    "num = 0\n",
    "selected_columns = [-1]\n",
    "with open(txt_file, \"r\") as txt_file:\n",
    "    for line in txt_file:\n",
    "        parts = line.strip().split('\\t')\n",
    "        if len(parts) == 2:\n",
    "            column_number = int(parts[0])\n",
    "            if column_number < 596:\n",
    "                selected_columns.append(column_number)\n",
    "                num += 1\n",
    "                if num == 20:\n",
    "                    break\n",
    "\n",
    "# 构建新的CSV文件\n",
    "with open(csv_file, \"w\", newline='') as output_csv:\n",
    "    writer = csv.writer(output_csv)\n",
    "    \n",
    "    # 打开原始CSV文件\n",
    "    with open(\"metabolomics.csv\", \"r\") as input_csv:\n",
    "        reader = csv.reader(input_csv)\n",
    "        \n",
    "        for row in reader:\n",
    "            # 仅选择指定的列\n",
    "            selected_data = [row[col+1] for col in selected_columns]\n",
    "            \n",
    "            # 写入新的CSV文件\n",
    "            writer.writerow(selected_data)\n",
    "\n",
    "print(f\"已创建新的CSV文件：{csv_file}\")"
   ]
  },
  {
   "cell_type": "code",
   "execution_count": null,
   "id": "9a68b36b-9172-4cca-963d-30fb3d7feea5",
   "metadata": {},
   "outputs": [],
   "source": []
  }
 ],
 "metadata": {
  "kernelspec": {
   "display_name": "Python 3",
   "language": "python",
   "name": "python3"
  },
  "language_info": {
   "codemirror_mode": {
    "name": "ipython",
    "version": 3
   },
   "file_extension": ".py",
   "mimetype": "text/x-python",
   "name": "python",
   "nbconvert_exporter": "python",
   "pygments_lexer": "ipython3",
   "version": "3.6.7"
  }
 },
 "nbformat": 4,
 "nbformat_minor": 5
}
