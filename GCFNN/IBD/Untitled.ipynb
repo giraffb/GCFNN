{
 "cells": [
  {
   "cell_type": "code",
   "execution_count": 32,
   "id": "b8ccf5b5-146f-49b7-9b67-85d08c01cbbe",
   "metadata": {},
   "outputs": [
    {
     "name": "stdout",
     "output_type": "stream",
     "text": [
      "0.9810999351070733\n",
      "0.9829424307036247\n",
      "0.9926111382510991\n",
      "0.9974759811105682\n",
      "0.974149161374369\n"
     ]
    }
   ],
   "source": [
    "for i in [0.9810999351070733, 0.9829424307036247, 0.9926111382510991, 0.9974759811105682, 0.974149161374369]:\n",
    "    print(i)"
   ]
  },
  {
   "cell_type": "code",
   "execution_count": null,
   "id": "b22867b2-460a-497e-bce8-1e4a62574502",
   "metadata": {},
   "outputs": [],
   "source": []
  }
 ],
 "metadata": {
  "kernelspec": {
   "display_name": "Python 3",
   "language": "python",
   "name": "python3"
  },
  "language_info": {
   "codemirror_mode": {
    "name": "ipython",
    "version": 3
   },
   "file_extension": ".py",
   "mimetype": "text/x-python",
   "name": "python",
   "nbconvert_exporter": "python",
   "pygments_lexer": "ipython3",
   "version": "3.6.7"
  }
 },
 "nbformat": 4,
 "nbformat_minor": 5
}
