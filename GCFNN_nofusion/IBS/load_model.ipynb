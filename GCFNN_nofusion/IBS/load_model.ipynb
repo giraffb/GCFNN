{
 "cells": [
  {
   "cell_type": "code",
   "execution_count": 1,
   "id": "c4cfa4bd-a4ae-4b62-bd16-3e4e882ce9f6",
   "metadata": {},
   "outputs": [],
   "source": [
    "import warnings\n",
    "warnings.filterwarnings('ignore')\n",
    "from numpy import *\n",
    "import numpy as np\n",
    "import pandas as pd\n",
    "import sys, os\n",
    "import torch\n",
    "from sklearn.model_selection import train_test_split\n",
    "from sklearn.model_selection import StratifiedKFold\n",
    "\n",
    "from GCFNN import GCFNN\n",
    "import torch.nn.functional as F\n",
    "from numpy.random import randint\n",
    "from sklearn.metrics import accuracy_score, f1_score, roc_auc_score"
   ]
  },
  {
   "cell_type": "code",
   "execution_count": 2,
   "id": "731a5b05-e50d-4282-8ed5-6b96b9a6d154",
   "metadata": {},
   "outputs": [],
   "source": [
    "def concatenated_tensor(X_set, M):\n",
    "    concatenated_tensor_list = []\n",
    "    # 遍历索引范围为 0 到 M-1 的值\n",
    "    for i in range(M.shape[1]):\n",
    "        # 拼接 X_set[i]\n",
    "        concatenated_tensor_list.append(X_set[i])\n",
    "        ## 将 adj_list[i] 转换为密集张量并拼接\n",
    "        #adj_dense_tensor = adj_list[i].to_dense()\n",
    "        #concatenated_tensor_list.append(adj_dense_tensor)\n",
    "        \n",
    "    # 将 tr_M 转换为张量并拼接\n",
    "    M_tensor = torch.from_numpy(M)\n",
    "    concatenated_tensor_list.append(M_tensor)\n",
    "    # 沿着 dim=1 拼接所有张量\n",
    "    concatenated_tensor = torch.cat(concatenated_tensor_list, dim=1)\n",
    "    return concatenated_tensor"
   ]
  },
  {
   "cell_type": "code",
   "execution_count": 3,
   "id": "90218e44-3949-483a-adb5-b8809b9195b9",
   "metadata": {},
   "outputs": [
    {
     "name": "stdout",
     "output_type": "stream",
     "text": [
      "输入各组学数据表： (444, 1034) (444, 43) (444, 1)\n",
      "Index(['1.T.0', '1.T.1', '1.T.2', '1.T.3', '1.T.4', '1.T.5', '1.T.6', '10.T.0',\n",
      "       '10.T.1', '10.T.2',\n",
      "       ...\n",
      "       '8.T.4', '8.T.5', '8.T.6', '9.T.0', '9.T.1', '9.T.2', '9.T.3', '9.T.4',\n",
      "       '9.T.6', '9.T.Flare'],\n",
      "      dtype='object', name='Sample', length=444)\n",
      "数据完整率missing_rate : 1.0\n",
      "集合所有样本重构数据表： (444, 1034) (444, 43) (444, 1)\n",
      "标签转换为one-hot编码： (444, 2) 139.0\n"
     ]
    }
   ],
   "source": [
    "# read data\n",
    "meta_data=pd.read_csv('meta.csv',index_col=0)\n",
    "metabolomics=pd.read_csv('metabolomics.csv',index_col=0).fillna(0)\n",
    "metagenomics=pd.read_csv('metagenomics_species.csv',index_col=0)\n",
    "data_class={'H':0,'C':1,'D':1}\n",
    "meta_data['Study.Group']=meta_data['Study.Group'].map(data_class)\n",
    "\n",
    "x1=metagenomics\n",
    "x2=metabolomics\n",
    "print('输入各组学数据表：',x1.shape,x2.shape,meta_data.shape)\n",
    "\n",
    "#重构数据表和标签表\n",
    "X1=pd.concat([x1,x2],axis=1).iloc[:,:x1.shape[1]]\n",
    "X2=pd.concat([x1,x2],axis=1).iloc[:,x1.shape[1]:x1.shape[1]+x2.shape[1]]\n",
    "index_new=X1.index\n",
    "print(index_new)\n",
    "missing_rate=(len(x1)+len(x2))/(len(index_new)*2)\n",
    "print('数据完整率missing_rate :',missing_rate)\n",
    "                                        \n",
    "meta_data=meta_data.reindex(index_new)\n",
    "X1=array(X1.reindex(index_new))\n",
    "X2=array(X2.reindex(index_new))\n",
    "print('集合所有样本重构数据表：',X1.shape,X2.shape,meta_data.shape)\n",
    "X_set=[X1,X2]\n",
    "M        = len(X_set)\n",
    "Mask     = np.ones([np.shape(X_set[0])[0], M])\n",
    "#生成表示组学缺失情况的掩码矩阵，将缺失组学部分填补为0\n",
    "for m_idx in range(M):\n",
    "    Mask[np.isnan(X_set[m_idx]).all(axis=1), m_idx] = 0\n",
    "    #X_set[m_idx][Mask[:, m_idx] == 0] = np.mean(X_set[m_idx][Mask[:, m_idx] == 1], axis=0)\n",
    "    X_set[m_idx][Mask[:, m_idx] == 0] = 0\n",
    "    \n",
    "#对宏基因组数据预处理\n",
    "def log(base,x):\n",
    "    return np.log(x)/np.log(base)\n",
    "X_set[0]=log(2,2*X_set[0]+0.00001)\n",
    "\n",
    "#print(Mask)\n",
    "#print(X_set)\n",
    "Y = meta_data['Study.Group'].tolist()\n",
    "Y = np.array(Y)\n",
    "Y_onehot = np.zeros((Y.shape[0], 2))\n",
    "Y_onehot[np.arange(Y.shape[0]), Y] = 1\n",
    "print('标签转换为one-hot编码：', Y_onehot.shape, np.sum(Y_onehot[:, 0]))"
   ]
  },
  {
   "cell_type": "code",
   "execution_count": 4,
   "id": "bb0105e4-a78d-4e17-8ab2-1c5c27af849f",
   "metadata": {
    "tags": []
   },
   "outputs": [
    {
     "name": "stdout",
     "output_type": "stream",
     "text": [
      "Test F1: 0.9587\n",
      "Test ACC: 0.9438\n",
      "Test AUC: 0.9877\n",
      "Test F1: 0.9917\n",
      "Test ACC: 0.9888\n",
      "Test AUC: 0.9971\n",
      "Test F1: 0.9677\n",
      "Test ACC: 0.9551\n",
      "Test AUC: 0.9561\n",
      "Test F1: 0.9756\n",
      "Test ACC: 0.9663\n",
      "Test AUC: 0.9631\n",
      "Test F1: 0.9752\n",
      "Test ACC: 0.9659\n",
      "Test AUC: 0.9872\n",
      "f1 [0.9586776859504132, 0.9917355371900827, 0.9677419354838709, 0.975609756097561, 0.9752066115702478]\n",
      "average f1: 0.9737943052584352±0.010884131874288888\n",
      "acc [0.9438202247191011, 0.9887640449438202, 0.9550561797752809, 0.9662921348314607, 0.9659090909090909]\n",
      "average acc: 0.9639683350357509±0.014895413182682674\n",
      "auc [0.9877049180327868, 0.9970725995316159, 0.9560889929742389, 0.9631147540983607, 0.9872495446265939]\n",
      "average auc: 0.9782461618527192±0.01577886788627377\n"
     ]
    }
   ],
   "source": [
    "folder_path = 'model_shap'\n",
    "cv = StratifiedKFold(n_splits=5,shuffle = True,random_state = 50)\n",
    "f1_cv = []\n",
    "acc_cv = []\n",
    "auc_cv = []\n",
    "for i,(train_index, test_index) in enumerate(cv.split(X_set[0],np.argmax(Y_onehot,axis=1))):\n",
    "    tr_X_set, te_X_set, va_X_set = {}, {}, {}\n",
    "    for m in range(len(X_set)):\n",
    "        tr_X_set[m],tr_Y_onehot,tr_M = X_set[m][train_index],Y_onehot[train_index],Mask[train_index]\n",
    "        te_X_set[m],te_Y_onehot,te_M = X_set[m][test_index],Y_onehot[test_index],Mask[test_index]\n",
    "        #归一化\n",
    "        #print(te_Y_onehot)\n",
    "    def Normalize(data):\n",
    "        \"\"\"\n",
    "        :param data:Input data\n",
    "        :return:normalized data\n",
    "        \"\"\"\n",
    "        mean = np.mean(data)\n",
    "        mx = np.max(data)\n",
    "        mn = np.min(data)\n",
    "        return mean, mx, mn\n",
    "    \n",
    "    for m in range(M):\n",
    "        mean, mx, mn = Normalize(tr_X_set[m])\n",
    "        tr_X_set[m] = (tr_X_set[m] - mean) / (mx - mn)\n",
    "        te_X_set[m] = (te_X_set[m] - mean) / (mx - mn)\n",
    "        \n",
    "    for m in range(M):\n",
    "        tr_X_set[m] = torch.from_numpy(tr_X_set[m])\n",
    "        te_X_set[m] = torch.from_numpy(te_X_set[m])\n",
    "    tr_Y_onehot = torch.from_numpy(tr_Y_onehot)\n",
    "    te_Y_onehot = torch.from_numpy(te_Y_onehot)\n",
    "    \n",
    "    #tansform\n",
    "    tr_input = concatenated_tensor(tr_X_set, tr_M)\n",
    "    te_input = concatenated_tensor(te_X_set, te_M)   \n",
    "    model_path = os.path.join(folder_path, 'model_'+str(i)+'.pth')\n",
    "    model_test = torch.load(model_path)\n",
    "    \n",
    "    if str(model_test.device) == 'cuda':\n",
    "        tr_input = tr_input.cuda()\n",
    "        te_input = te_input.cuda()\n",
    "        tr_Y_onehot = tr_Y_onehot.cuda()\n",
    "        te_Y_onehot = te_Y_onehot.cuda()\n",
    "    f1, acc, auc = model_test.predict_test(te_input, te_Y_onehot)\n",
    "    f1_cv.append(f1)\n",
    "    acc_cv.append(acc)\n",
    "    auc_cv.append(auc)\n",
    "print('f1', f1_cv)\n",
    "print('average f1: {}±{}'.format(np.mean(f1_cv), np.std(f1_cv)))\n",
    "print('acc', acc_cv)\n",
    "print('average acc: {}±{}'.format(np.mean(acc_cv), np.std(acc_cv)))\n",
    "print('auc', auc_cv)\n",
    "print('average auc: {}±{}'.format(np.mean(auc_cv), np.std(auc_cv)))"
   ]
  },
  {
   "cell_type": "code",
   "execution_count": 5,
   "id": "2349fcf8-bbb6-4862-ac60-0111116048a1",
   "metadata": {},
   "outputs": [
    {
     "data": {
      "text/plain": [
       "4"
      ]
     },
     "execution_count": 5,
     "metadata": {},
     "output_type": "execute_result"
    }
   ],
   "source": [
    "model_test.edge_per_node"
   ]
  },
  {
   "cell_type": "code",
   "execution_count": null,
   "id": "ec98349d-dc62-4391-8710-2317d47172ba",
   "metadata": {},
   "outputs": [],
   "source": []
  }
 ],
 "metadata": {
  "kernelspec": {
   "display_name": "Python 3",
   "language": "python",
   "name": "python3"
  },
  "language_info": {
   "codemirror_mode": {
    "name": "ipython",
    "version": 3
   },
   "file_extension": ".py",
   "mimetype": "text/x-python",
   "name": "python",
   "nbconvert_exporter": "python",
   "pygments_lexer": "ipython3",
   "version": "3.6.7"
  }
 },
 "nbformat": 4,
 "nbformat_minor": 5
}
