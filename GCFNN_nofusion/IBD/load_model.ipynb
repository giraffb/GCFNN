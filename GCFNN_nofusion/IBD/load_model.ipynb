{
 "cells": [
  {
   "cell_type": "code",
   "execution_count": 1,
   "id": "c4cfa4bd-a4ae-4b62-bd16-3e4e882ce9f6",
   "metadata": {},
   "outputs": [],
   "source": [
    "import warnings\n",
    "warnings.filterwarnings('ignore')\n",
    "from numpy import *\n",
    "import numpy as np\n",
    "import pandas as pd\n",
    "import sys, os\n",
    "import torch\n",
    "from sklearn.model_selection import train_test_split\n",
    "from sklearn.model_selection import StratifiedKFold\n",
    "\n",
    "from GCFNN import GCFNN\n",
    "import torch.nn.functional as F\n",
    "from numpy.random import randint\n",
    "from sklearn.metrics import accuracy_score, f1_score, roc_auc_score"
   ]
  },
  {
   "cell_type": "code",
   "execution_count": 2,
   "id": "731a5b05-e50d-4282-8ed5-6b96b9a6d154",
   "metadata": {},
   "outputs": [],
   "source": [
    "def concatenated_tensor(X_set, M):\n",
    "    concatenated_tensor_list = []\n",
    "    # 遍历索引范围为 0 到 M-1 的值\n",
    "    for i in range(M.shape[1]):\n",
    "        # 拼接 X_set[i]\n",
    "        concatenated_tensor_list.append(X_set[i])\n",
    "        ## 将 adj_list[i] 转换为密集张量并拼接\n",
    "        #adj_dense_tensor = adj_list[i].to_dense()\n",
    "        #concatenated_tensor_list.append(adj_dense_tensor)\n",
    "        \n",
    "    # 将 tr_M 转换为张量并拼接\n",
    "    M_tensor = torch.from_numpy(M)\n",
    "    concatenated_tensor_list.append(M_tensor)\n",
    "    # 沿着 dim=1 拼接所有张量\n",
    "    concatenated_tensor = torch.cat(concatenated_tensor_list, dim=1)\n",
    "    return concatenated_tensor"
   ]
  },
  {
   "cell_type": "code",
   "execution_count": 3,
   "id": "90218e44-3949-483a-adb5-b8809b9195b9",
   "metadata": {},
   "outputs": [
    {
     "name": "stdout",
     "output_type": "stream",
     "text": [
      "输入各组学数据表： (1638, 578) (546, 596) (2891, 1)\n",
      "Index(['PSM7J1BF', 'CSM7KORK', 'HSM7J4HS', 'MSM9VZNL', 'MSMB4LYB', 'MSM6J2PM',\n",
      "       'MSMA26ET', 'CSM79HMN', 'CSM67UB1', 'HSM7J4IS',\n",
      "       ...\n",
      "       'PSM7J134', 'HSM5FZBJ', 'CSM79HK1', 'CSM5MCTZ', 'CSM9X21P', 'CSM5MCXF',\n",
      "       'CSM67U9P', 'CSM7KOPQ', 'HSMA33LV', 'MSM5LLFK'],\n",
      "      dtype='object', length=1796)\n",
      "数据完整率missing_rate : 0.6080178173719376\n",
      "集合所有样本重构数据表： (1796, 578) (1796, 596) (1796, 1)\n",
      "标签转换为one-hot编码： (1796, 2) 459.0\n"
     ]
    }
   ],
   "source": [
    "# read data\n",
    "meta_data=pd.read_csv('meta.csv',index_col=0)\n",
    "metabolomics=pd.read_csv('metabolomics.csv',index_col=0).fillna(0)\n",
    "metagenomics=pd.read_csv('metagenomics.csv',index_col=0)\n",
    "data_class={'nonIBD':0,'CD':1,'UC':1}\n",
    "meta_data['diagnosis']=meta_data['diagnosis'].map(data_class)\n",
    "\n",
    "x1=metagenomics\n",
    "x2=metabolomics\n",
    "print('输入各组学数据表：',x1.shape,x2.shape,meta_data.shape)\n",
    "\n",
    "#重构数据表和标签表\n",
    "X1=pd.concat([x1,x2],axis=1).iloc[:,:x1.shape[1]]\n",
    "X2=pd.concat([x1,x2],axis=1).iloc[:,x1.shape[1]:x1.shape[1]+x2.shape[1]]\n",
    "index_new=X1.index\n",
    "print(index_new)\n",
    "missing_rate=(len(x1)+len(x2))/(len(index_new)*2)\n",
    "print('数据完整率missing_rate :',missing_rate)\n",
    "                                        \n",
    "meta_data=meta_data.reindex(index_new)\n",
    "X1=array(X1.reindex(index_new))\n",
    "X2=array(X2.reindex(index_new))\n",
    "print('集合所有样本重构数据表：',X1.shape,X2.shape,meta_data.shape)\n",
    "X_set=[X1,X2]\n",
    "M        = len(X_set)\n",
    "Mask     = np.ones([np.shape(X_set[0])[0], M])\n",
    "#生成表示组学缺失情况的掩码矩阵，将缺失组学部分填补为0\n",
    "for m_idx in range(M):\n",
    "    Mask[np.isnan(X_set[m_idx]).all(axis=1), m_idx] = 0\n",
    "    #X_set[m_idx][Mask[:, m_idx] == 0] = np.mean(X_set[m_idx][Mask[:, m_idx] == 1], axis=0)\n",
    "    X_set[m_idx][Mask[:, m_idx] == 0] = 0\n",
    "    \n",
    "#对宏基因组数据预处理\n",
    "def log(base,x):\n",
    "    return np.log(x)/np.log(base)\n",
    "X_set[0]=log(2,2*X_set[0]+0.00001)\n",
    "\n",
    "#print(Mask)\n",
    "#print(X_set)\n",
    "Y = meta_data['diagnosis'].tolist()\n",
    "Y = np.array(Y)\n",
    "Y_onehot = np.zeros((Y.shape[0], 2))\n",
    "Y_onehot[np.arange(Y.shape[0]), Y] = 1\n",
    "print('标签转换为one-hot编码：', Y_onehot.shape, np.sum(Y_onehot[:, 0]))"
   ]
  },
  {
   "cell_type": "code",
   "execution_count": 4,
   "id": "bb0105e4-a78d-4e17-8ab2-1c5c27af849f",
   "metadata": {
    "tags": []
   },
   "outputs": [
    {
     "name": "stdout",
     "output_type": "stream",
     "text": [
      "Test F1: 0.9760\n",
      "Test ACC: 0.9639\n",
      "Test AUC: 0.9813\n",
      "Test F1: 0.9686\n",
      "Test ACC: 0.9526\n",
      "Test AUC: 0.9782\n",
      "Test F1: 0.9761\n",
      "Test ACC: 0.9638\n",
      "Test AUC: 0.9911\n",
      "Test F1: 0.9779\n",
      "Test ACC: 0.9666\n",
      "Test AUC: 0.9921\n",
      "Test F1: 0.9777\n",
      "Test ACC: 0.9666\n",
      "Test AUC: 0.9775\n",
      "f1 [0.9759704251386322, 0.9685767097966728, 0.9760589318600369, 0.977859778597786, 0.9776951672862454]\n",
      "average f1: 0.9752322025358746±0.0034203622296744827\n",
      "acc [0.9638888888888889, 0.9526462395543176, 0.9637883008356546, 0.9665738161559888, 0.9665738161559888]\n",
      "average acc: 0.9626942123181678±0.00517085467466787\n",
      "auc [0.9812621674237507, 0.9781859931113662, 0.9910641589317701, 0.9921022634750041, 0.9774873799055528]\n",
      "average auc: 0.9840203925694887±0.006312837069947101\n"
     ]
    }
   ],
   "source": [
    "folder_path = 'model_shap'\n",
    "cv = StratifiedKFold(n_splits=5,shuffle = True,random_state = 50)\n",
    "f1_cv = []\n",
    "acc_cv = []\n",
    "auc_cv = []\n",
    "for i,(train_index, test_index) in enumerate(cv.split(X_set[0],np.argmax(Y_onehot,axis=1))):\n",
    "    tr_X_set, te_X_set, va_X_set = {}, {}, {}\n",
    "    for m in range(len(X_set)):\n",
    "        tr_X_set[m],tr_Y_onehot,tr_M = X_set[m][train_index],Y_onehot[train_index],Mask[train_index]\n",
    "        te_X_set[m],te_Y_onehot,te_M = X_set[m][test_index],Y_onehot[test_index],Mask[test_index]\n",
    "        #归一化\n",
    "        #print(te_Y_onehot)\n",
    "    def Normalize(data):\n",
    "        \"\"\"\n",
    "        :param data:Input data\n",
    "        :return:normalized data\n",
    "        \"\"\"\n",
    "        mean = np.mean(data)\n",
    "        mx = np.max(data)\n",
    "        mn = np.min(data)\n",
    "        return mean, mx, mn\n",
    "    \n",
    "    for m in range(M):\n",
    "        mean, mx, mn = Normalize(tr_X_set[m])\n",
    "        tr_X_set[m] = (tr_X_set[m] - mean) / (mx - mn)\n",
    "        te_X_set[m] = (te_X_set[m] - mean) / (mx - mn)\n",
    "        \n",
    "    for m in range(M):\n",
    "        tr_X_set[m] = torch.from_numpy(tr_X_set[m])\n",
    "        te_X_set[m] = torch.from_numpy(te_X_set[m])\n",
    "    tr_Y_onehot = torch.from_numpy(tr_Y_onehot)\n",
    "    te_Y_onehot = torch.from_numpy(te_Y_onehot)\n",
    "    \n",
    "    #tansform\n",
    "    tr_input = concatenated_tensor(tr_X_set, tr_M)\n",
    "    te_input = concatenated_tensor(te_X_set, te_M)   \n",
    "    model_path = os.path.join(folder_path, 'model_'+str(i)+'.pth')\n",
    "    model_test = torch.load(model_path)\n",
    "    \n",
    "    if str(model_test.device) == 'cuda':\n",
    "        tr_input = tr_input.cuda()\n",
    "        te_input = te_input.cuda()\n",
    "        tr_Y_onehot = tr_Y_onehot.cuda()\n",
    "        te_Y_onehot = te_Y_onehot.cuda()\n",
    "    f1, acc, auc = model_test.predict_test(te_input, te_Y_onehot)\n",
    "    f1_cv.append(f1)\n",
    "    acc_cv.append(acc)\n",
    "    auc_cv.append(auc)\n",
    "print('f1', f1_cv)\n",
    "print('average f1: {}±{}'.format(np.mean(f1_cv), np.std(f1_cv)))\n",
    "print('acc', acc_cv)\n",
    "print('average acc: {}±{}'.format(np.mean(acc_cv), np.std(acc_cv)))\n",
    "print('auc', auc_cv)\n",
    "print('average auc: {}±{}'.format(np.mean(auc_cv), np.std(auc_cv)))"
   ]
  },
  {
   "cell_type": "code",
   "execution_count": 5,
   "id": "2349fcf8-bbb6-4862-ac60-0111116048a1",
   "metadata": {},
   "outputs": [
    {
     "data": {
      "text/plain": [
       "8"
      ]
     },
     "execution_count": 5,
     "metadata": {},
     "output_type": "execute_result"
    }
   ],
   "source": [
    "model_test.edge_per_node"
   ]
  },
  {
   "cell_type": "code",
   "execution_count": null,
   "id": "24aa5b81-340c-49a4-b8c7-0517dba07e7c",
   "metadata": {},
   "outputs": [],
   "source": []
  }
 ],
 "metadata": {
  "kernelspec": {
   "display_name": "Python 3",
   "language": "python",
   "name": "python3"
  },
  "language_info": {
   "codemirror_mode": {
    "name": "ipython",
    "version": 3
   },
   "file_extension": ".py",
   "mimetype": "text/x-python",
   "name": "python",
   "nbconvert_exporter": "python",
   "pygments_lexer": "ipython3",
   "version": "3.6.7"
  }
 },
 "nbformat": 4,
 "nbformat_minor": 5
}
